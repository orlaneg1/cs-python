{
  "nbformat": 4,
  "nbformat_minor": 0,
  "metadata": {
    "colab": {
      "provenance": [],
      "authorship_tag": "ABX9TyOggyIcqMrr4d68IfYDk4Yn",
      "include_colab_link": true
    },
    "kernelspec": {
      "name": "python3",
      "display_name": "Python 3"
    },
    "language_info": {
      "name": "python"
    }
  },
  "cells": [
    {
      "cell_type": "markdown",
      "metadata": {
        "id": "view-in-github",
        "colab_type": "text"
      },
      "source": [
        "<a href=\"https://colab.research.google.com/github/orlaneg1/cs-python/blob/main/Week_3.ipynb\" target=\"_parent\"><img src=\"https://colab.research.google.com/assets/colab-badge.svg\" alt=\"Open In Colab\"/></a>"
      ]
    },
    {
      "cell_type": "code",
      "execution_count": 6,
      "metadata": {
        "colab": {
          "base_uri": "https://localhost:8080/"
        },
        "id": "9rZ9V-lH4-GJ",
        "outputId": "9286faba-fde9-4ef9-c40a-4c6bd35613dc"
      },
      "outputs": [
        {
          "output_type": "stream",
          "name": "stdout",
          "text": [
            "Enter a number:3\n",
            "is positive True\n"
          ]
        }
      ],
      "source": [
        "num = int(input(\"Enter a number:\"))\n",
        "\n",
        "if num>0:\n",
        "    positive=True\n",
        "else:\n",
        "    positive=False\n",
        "print(\"is positive\",positive)\n"
      ]
    },
    {
      "cell_type": "code",
      "source": [
        "age = int(input(\"Enter age:\"))\n",
        "if age<18:\n",
        " watch = False\n",
        "else:\n",
        "  watch = True\n",
        "if age>60:\n",
        "  senior = True\n",
        "else:\n",
        "  senior = False\n",
        "print(age,watch,senior)"
      ],
      "metadata": {
        "colab": {
          "base_uri": "https://localhost:8080/"
        },
        "id": "6FyqUq8v5aie",
        "outputId": "8cadd88f-a12c-4222-cf12-8b66b570baed"
      },
      "execution_count": 8,
      "outputs": [
        {
          "output_type": "stream",
          "name": "stdout",
          "text": [
            "Enter age:56\n",
            "56 True False\n"
          ]
        }
      ]
    },
    {
      "cell_type": "markdown",
      "source": [
        "if your score is less than 10 you fail.\n",
        "if 10-20 you pass.\n",
        "if >15 distinction.\n",
        "\n",
        "If you get a distinction you get an award!"
      ],
      "metadata": {
        "id": "YVdAjXbj6jGU"
      }
    },
    {
      "cell_type": "code",
      "source": [
        "score = int(input(\"Enter score:\"))\n",
        "if score<10:\n",
        "  fail=True\n",
        "else:\n",
        "  fail=False\n",
        "if score>=15:\n",
        "  distinction=True\n",
        "else:\n",
        "  distinction=False\n",
        "\n",
        "print(score,fail,distinction)"
      ],
      "metadata": {
        "colab": {
          "base_uri": "https://localhost:8080/"
        },
        "id": "alpbxKgp6uBq",
        "outputId": "5a95a338-282d-473a-df1a-36c91016c5e0"
      },
      "execution_count": 10,
      "outputs": [
        {
          "output_type": "stream",
          "name": "stdout",
          "text": [
            "Enter score:40\n",
            "40 False True\n"
          ]
        }
      ]
    },
    {
      "cell_type": "markdown",
      "source": [
        "* if temp > 20 you turn on the heat.\n",
        "* f the heat is on you close the windows.\n",
        "* if the windows are closed, turn on the ventilation"
      ],
      "metadata": {
        "id": "PQW9Pgg77p-w"
      }
    },
    {
      "cell_type": "code",
      "source": [
        "temp = int(input(\"Enter a temp:\"))\n",
        "if temp<20:\n",
        "  heat=True\n",
        "else:\n",
        "  heat=False\n",
        "\n",
        "if heat==True:\n",
        "  closed_windows=True\n",
        "else:\n",
        "  closed_windows=False\n",
        "\n",
        "if closed_windows==True:\n",
        "  ventilation=True\n",
        "else:\n",
        "  ventilation=True\n",
        "\n",
        "print(temp,heat,closed_windows,ventilation)"
      ],
      "metadata": {
        "colab": {
          "base_uri": "https://localhost:8080/"
        },
        "id": "PUcjhYCU74Ju",
        "outputId": "6642db75-263b-4c97-93aa-0509d343c83f"
      },
      "execution_count": 13,
      "outputs": [
        {
          "output_type": "stream",
          "name": "stdout",
          "text": [
            "Enter a temp:34\n",
            "34 False False True\n"
          ]
        }
      ]
    },
    {
      "cell_type": "code",
      "source": [
        "students = ['Mary','Tom','Stelios,''Kate']\n",
        "scores = [15,12,9,18]\n",
        "\n",
        "print(students[0:2])\n",
        "print(scores)"
      ],
      "metadata": {
        "colab": {
          "base_uri": "https://localhost:8080/"
        },
        "id": "bDE52ZqS9qrn",
        "outputId": "aeb4fefe-652a-4bbd-fc18-42843752f50d"
      },
      "execution_count": 14,
      "outputs": [
        {
          "output_type": "stream",
          "name": "stdout",
          "text": [
            "['Mary', 'Tom']\n",
            "[15, 12, 9, 18]\n"
          ]
        }
      ]
    },
    {
      "cell_type": "code",
      "source": [
        "scores[0]\n",
        "scores[-1]\n",
        "scores[1:3]"
      ],
      "metadata": {
        "colab": {
          "base_uri": "https://localhost:8080/"
        },
        "id": "SGz7qyql-2OU",
        "outputId": "616e5c79-e0fd-4657-eafe-eaace684334c"
      },
      "execution_count": 15,
      "outputs": [
        {
          "output_type": "execute_result",
          "data": {
            "text/plain": [
              "[12, 9]"
            ]
          },
          "metadata": {},
          "execution_count": 15
        }
      ]
    },
    {
      "cell_type": "code",
      "source": [
        "numbers = [10,20,30,40,50,60,70,80,90]\n",
        "# print->20\n",
        "# print->80\n",
        "# print->10,20,30\n",
        "# print last 3 elements\n",
        "# print->50,60"
      ],
      "metadata": {
        "id": "Vxh7ClcN-87X"
      },
      "execution_count": null,
      "outputs": []
    }
  ]
}