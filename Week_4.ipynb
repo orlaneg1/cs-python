{
  "nbformat": 4,
  "nbformat_minor": 0,
  "metadata": {
    "colab": {
      "provenance": [],
      "authorship_tag": "ABX9TyPkC2rInje/j2vJNOXNB3qx",
      "include_colab_link": true
    },
    "kernelspec": {
      "name": "python3",
      "display_name": "Python 3"
    },
    "language_info": {
      "name": "python"
    }
  },
  "cells": [
    {
      "cell_type": "markdown",
      "metadata": {
        "id": "view-in-github",
        "colab_type": "text"
      },
      "source": [
        "<a href=\"https://colab.research.google.com/github/orlaneg1/cs-python/blob/main/Week_4.ipynb\" target=\"_parent\"><img src=\"https://colab.research.google.com/assets/colab-badge.svg\" alt=\"Open In Colab\"/></a>"
      ]
    },
    {
      "cell_type": "code",
      "execution_count": 3,
      "metadata": {
        "colab": {
          "base_uri": "https://localhost:8080/"
        },
        "id": "eJZ10VDVuY1b",
        "outputId": "7eaa4fd4-f536-4dc4-ec23-e4c5a6b511f3"
      },
      "outputs": [
        {
          "output_type": "stream",
          "name": "stdout",
          "text": [
            "Alex\n",
            "Paris\n"
          ]
        }
      ],
      "source": [
        "text = \"Hello from London\"\n",
        "names = [\"Alex\",\"Kate\",\"Tim\",\"Mary\"]\n",
        "cities = [\"Paris\",\"London\",\"London\",\"Paris\"]\n",
        "print(names[0])\n",
        "print(cities[0])"
      ]
    },
    {
      "cell_type": "code",
      "source": [
        "data = [] # empty\n",
        "data.append(100)\n",
        "data.append(200)\n",
        "data.append(300)\n",
        "print(data)"
      ],
      "metadata": {
        "colab": {
          "base_uri": "https://localhost:8080/"
        },
        "id": "iYSY7NCmv7wm",
        "outputId": "b4e79b4c-7e98-4da2-b11b-eabdf4052ea6"
      },
      "execution_count": 5,
      "outputs": [
        {
          "output_type": "stream",
          "name": "stdout",
          "text": [
            "[100, 200, 300]\n"
          ]
        }
      ]
    },
    {
      "cell_type": "code",
      "source": [
        "names = [\"Alex\",\"Kate\",\"Tim\",\"Mary\"]\n",
        "print(names)\n",
        "# Add Nick to the list\n",
        "names.append(\"Nick\")\n",
        "print(names)\n",
        "names.pop(2)\n",
        "print(names)"
      ],
      "metadata": {
        "colab": {
          "base_uri": "https://localhost:8080/"
        },
        "id": "3W5H0uTCwS8v",
        "outputId": "ab330661-d828-4a05-d777-6dfb55abab02"
      },
      "execution_count": 7,
      "outputs": [
        {
          "output_type": "stream",
          "name": "stdout",
          "text": [
            "['Alex', 'Kate', 'Tim', 'Mary']\n",
            "['Alex', 'Kate', 'Tim', 'Mary', 'Nick']\n",
            "['Alex', 'Kate', 'Mary', 'Nick']\n"
          ]
        }
      ]
    },
    {
      "cell_type": "code",
      "source": [
        "data = []\n",
        "\n",
        "data.append(10)\n",
        "data.append(30)\n",
        "data.append(40)\n",
        "data.pop(1)\n",
        "data.append(50)\n",
        "data.pop(0)\n",
        "\n",
        "print(data)"
      ],
      "metadata": {
        "colab": {
          "base_uri": "https://localhost:8080/"
        },
        "id": "YiSSnXOdxWAi",
        "outputId": "a0006dd9-7ec3-4433-e237-ebe028b21078"
      },
      "execution_count": 9,
      "outputs": [
        {
          "output_type": "stream",
          "name": "stdout",
          "text": [
            "[40, 50]\n"
          ]
        }
      ]
    },
    {
      "cell_type": "code",
      "source": [
        "data = [10,30,40,50]\n",
        "data.insert(1,20)\n",
        "data.insert(4,45)\n",
        "print(data)"
      ],
      "metadata": {
        "colab": {
          "base_uri": "https://localhost:8080/"
        },
        "id": "eTfXp29uyLNZ",
        "outputId": "171683d1-18e3-4419-a547-ab34f8b68217"
      },
      "execution_count": 11,
      "outputs": [
        {
          "output_type": "stream",
          "name": "stdout",
          "text": [
            "[10, 20, 30, 40, 45, 50]\n"
          ]
        }
      ]
    },
    {
      "cell_type": "code",
      "source": [
        "data = [10,20,20,30,30,40,50]\n",
        "data.remove(20)\n",
        "print(data)\n",
        "print(len(data))\n",
        "print(max(data))\n",
        "print(min(data))\n",
        "print(\"AVG:\",sum(data)/len(data))"
      ],
      "metadata": {
        "colab": {
          "base_uri": "https://localhost:8080/"
        },
        "id": "o1Bc8RMkywGT",
        "outputId": "c1d12ef9-65e5-4a25-a875-7f4b5e1669e5"
      },
      "execution_count": 14,
      "outputs": [
        {
          "output_type": "stream",
          "name": "stdout",
          "text": [
            "[10, 20, 30, 30, 40, 50]\n",
            "6\n",
            "50\n",
            "10\n",
            "AVG: 30.0\n"
          ]
        }
      ]
    },
    {
      "cell_type": "code",
      "source": [
        "alist = [\"Tom\",\"Tim\",\"Tim\"]\n",
        "alist.count(\"Tim\")"
      ],
      "metadata": {
        "colab": {
          "base_uri": "https://localhost:8080/"
        },
        "id": "6H1vBECo0Ik_",
        "outputId": "b885d18a-a79f-4f24-8d5c-527083fb51cd"
      },
      "execution_count": 15,
      "outputs": [
        {
          "output_type": "execute_result",
          "data": {
            "text/plain": [
              "2"
            ]
          },
          "metadata": {},
          "execution_count": 15
        }
      ]
    },
    {
      "cell_type": "code",
      "source": [
        "num1 = int(input(\"Enter a number:\"))\n",
        "num2 = int(input(\"Enter a number:\"))\n",
        "num3 = int(input(\"Enter a number:\"))\n",
        "data = []\n",
        "data.append(num1)\n",
        "data.append(num2)\n",
        "data.append(num3)\n",
        "data.remove(300)\n",
        "data.append(400)\n",
        "data.insert(0,50)"
      ],
      "metadata": {
        "colab": {
          "base_uri": "https://localhost:8080/"
        },
        "id": "i6-GR16T1ib1",
        "outputId": "f2c2ecad-5d13-4297-cb54-ff82c4b99439"
      },
      "execution_count": 16,
      "outputs": [
        {
          "name": "stdout",
          "output_type": "stream",
          "text": [
            "Enter a number:100\n",
            "Enter a number:200\n",
            "Enter a number:300\n"
          ]
        }
      ]
    },
    {
      "cell_type": "code",
      "source": [
        "data.pop(2)\n",
        "print(data)\n",
        "print(sum(data)/len(data))"
      ],
      "metadata": {
        "colab": {
          "base_uri": "https://localhost:8080/"
        },
        "id": "DTt5aDh42c-c",
        "outputId": "21fb18ce-278d-45a7-d310-8461e174978f"
      },
      "execution_count": 18,
      "outputs": [
        {
          "output_type": "stream",
          "name": "stdout",
          "text": [
            "[50, 100]\n"
          ]
        }
      ]
    },
    {
      "cell_type": "code",
      "source": [
        "text = input(\"Enter a text:\")\n",
        "letter = input(\"Enter a letter to count:\")\n",
        "print(text.count(letter))"
      ],
      "metadata": {
        "colab": {
          "base_uri": "https://localhost:8080/"
        },
        "id": "PDggeON2-Xwc",
        "outputId": "650f5d5f-34e6-4092-fe82-9639f701f766"
      },
      "execution_count": 19,
      "outputs": [
        {
          "output_type": "stream",
          "name": "stdout",
          "text": [
            "Enter a text:aaaaaaa\n",
            "Enter a letter to count:a\n",
            "7\n"
          ]
        }
      ]
    },
    {
      "cell_type": "code",
      "source": [
        "text = input(\"Enter a text:\")\n",
        "if text[-1]==\".\" or text[-1]==\"!\":\n",
        "    print(\"correct\")\n",
        "else:\n",
        "    print(\"error\")"
      ],
      "metadata": {
        "colab": {
          "base_uri": "https://localhost:8080/"
        },
        "id": "wKhocP9U_qKv",
        "outputId": "89948a67-a3b8-400e-b1d7-a04898ea9785"
      },
      "execution_count": 22,
      "outputs": [
        {
          "output_type": "stream",
          "name": "stdout",
          "text": [
            "Enter a text:uyfgiuoi iuhgi\n",
            "error\n"
          ]
        }
      ]
    }
  ]
}